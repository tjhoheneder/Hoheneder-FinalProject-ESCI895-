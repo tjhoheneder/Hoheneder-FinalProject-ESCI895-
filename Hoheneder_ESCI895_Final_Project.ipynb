{
  "nbformat": 4,
  "nbformat_minor": 0,
  "metadata": {
    "colab": {
      "name": "Hoheneder-ESCI895-Final_Project.ipynb",
      "provenance": [],
      "collapsed_sections": [
        "QArJFYsSCBBt",
        "s1AHI96TCdAX",
        "MVaFwH2qDcJ9",
        "OrxmcLUmDtmz",
        "FV7G4p_HFAq2",
        "nlzLHrklFWrj",
        "6GI5ax7_GixA",
        "dZ8975VlGutl",
        "KT6KntEvG9TL",
        "0DtpSuW0A6oU"
      ]
    },
    "kernelspec": {
      "name": "python3",
      "display_name": "Python 3"
    },
    "language_info": {
      "name": "python"
    }
  },
  "cells": [
    {
      "cell_type": "markdown",
      "metadata": {
        "id": "QArJFYsSCBBt"
      },
      "source": [
        "#**Hoheneder Final Project:**\n",
        "\n",
        "**Title of Term Project**\n",
        "\n",
        "*Study Site: Cheat River Watershed in North-Central, West Virginia, USA*\n",
        "\n",
        "ESCI895: Hydrologic Data Analysis \n",
        "\n"
      ]
    },
    {
      "cell_type": "code",
      "metadata": {
        "id": "goFV-0OjCXOk"
      },
      "source": [
        "#Installing Libraries: \n",
        "\n",
        "#Hydrofunctions: \n",
        "!pip install hydrofunctions\n",
        "\n",
        "#All Other Lbraries: \n",
        "import pandas as pd\n",
        "from datetime import datetime\n",
        "from pprint import pprint\n",
        "import numpy as np\n",
        "from matplotlib import pyplot as plt\n"
      ],
      "execution_count": null,
      "outputs": []
    },
    {
      "cell_type": "code",
      "metadata": {
        "id": "Uuw0hPEPlw3p"
      },
      "source": [
        "#Importing Data Files: \n",
        "albright_file= 'Albright.txt'\n",
        "blackwater_file= 'Blackwater.txt'\n",
        "bowden_file= 'Bowden.txt'\n",
        "hendricks_file = 'Hendricks.txt'\n",
        "parsons_file= 'Parsons.txt'\n",
        "rockville_file= 'Rockville.txt'"
      ],
      "execution_count": 1,
      "outputs": []
    },
    {
      "cell_type": "markdown",
      "metadata": {
        "id": "s1AHI96TCdAX"
      },
      "source": [
        "# **Evaluation of Discharge Curves in the Cheat River Watershed:**\n",
        "\n",
        "The first step in this project is to load in the dataframes and subsequent datasets we will be evaluating. The data in this study comes from the **Cheat River Watershed** located in the **North-Central Region of West Virginia**. \n",
        "\n",
        ".\n",
        "\n",
        "**The Following Gauges Will Be Used for Analysis:** \n",
        "*   Cheat River at Albright, WV\n",
        "*   Cheat River at Bowden, WV\n",
        "*   Blackwater River at Davis, WV\n",
        "*   Dry Fork at Parsons, WV\n",
        "*   Dry Fork at Hendricks, WV\n",
        "*   Big Sandy Creek at Rockville, WV\n",
        "\n",
        "\n",
        ".\n",
        "\n",
        "Each one of these stream gauges provides publically acessible water data through the USGS's National Water Inventory System (NWIS). This database allow sus to pull various factors, such as streamflow discharge, for the purposes of hydrologic analysis. While a multitude of factors are available at each of these gauging station locations, we will only use the **Discharge** parametre measured in **Cubic Feet per Second (cfs)** for analysis in this study. \n"
      ]
    },
    {
      "cell_type": "code",
      "metadata": {
        "id": "ZxUblQCB_9r2"
      },
      "source": [
        "#Albright:\n",
        "df_albright= pd.read_table(albright_file, delimiter=\"\\t\", comment='#', \n",
        "                   header=1, parse_dates=['20d'], index_col=['20d'], \n",
        "                   na_values= [9999, -0.0, -0.1])\n",
        "#Drop Columns: \n",
        "df_albright= df_albright.drop(columns={\"5s\", \"15s\", \"6s\", \"10s\", \"10s.1\"})\n",
        "#Rename Columns: \n",
        "df_albright= df_albright.rename(columns={\"14n\": \"Discharge (cfs)\"})\n",
        "df_albright= df_albright.rename(columns={\"14n.1\": \"Stage (ft)\"})\n",
        "#Fill NaN Data: \n",
        "df_albright.interpolate(method = 'linear', inplace = True)\n",
        "\n",
        "#Blackwater: \n",
        "df_blackwater= pd.read_table(blackwater_file, delimiter=\"\\t\", comment='#', \n",
        "                   header=1, parse_dates=['20d'], index_col=['20d'], \n",
        "                   na_values= [9999, -0.0, -0.1])\n",
        "#Drop Columns: \n",
        "df_blackwater= df_blackwater.drop(columns={\"5s\", \"15s\", \"6s\", \"10s\"})\n",
        "#Rename Columns: \n",
        "df_blackwater= df_blackwater.rename(columns={\"14n\": \"Discharge (cfs)\"})\n",
        "df_blackwater= df_blackwater.rename(columns={\"14n.1\": \"Stage (ft)\"})\n",
        "#Fill NaN Data: \n",
        "df_blackwater.interpolate(method = 'linear', inplace = True)\n",
        "    \n",
        "#Bowden: \n",
        "df_bowden= pd.read_table(bowden_file, delimiter=\"\\t\", comment='#', \n",
        "                   header=1, parse_dates=['20d'], index_col=['20d'], \n",
        "                   na_values= [9999, -0.0, -0.1])\n",
        "#Drop Columns: \n",
        "df_bowden= df_bowden.drop(columns={\"5s\", \"15s\", \"6s\", \"10s\"})\n",
        "#Rename Columns: \n",
        "df_bowden= df_bowden.rename(columns={\"14n\": \"Discharge (cfs)\"})\n",
        "df_bowden= df_bowden.rename(columns={\"14n.1\": \"Stage (ft)\"})\n",
        "#Fill NaN Data: \n",
        "df_bowden.interpolate(method = 'linear', inplace = True)\n",
        "    \n",
        "#Hendricks: \n",
        "df_hendricks= pd.read_table(hendricks_file, delimiter=\"\\t\", comment='#', \n",
        "                   header=1, parse_dates=['20d'], index_col=['20d'], \n",
        "                   na_values= [9999, -0.0, -0.1])\n",
        "#Drop Columns: \n",
        "df_hendricks= df_hendricks.drop(columns={\"5s\", \"15s\", \"6s\", \"10s\"})\n",
        "#Rename Columns: \n",
        "df_hendricks= df_hendricks.rename(columns={\"14n\": \"Discharge (cfs)\"})\n",
        "df_hendricks= df_hendricks.rename(columns={\"14n.1\": \"Stage (ft)\"})\n",
        "#Fill NaN Data: \n",
        "df_hendricks.interpolate(method = 'linear', inplace = True)  \n",
        "    \n",
        "#Parsons: \n",
        "df_parsons= pd.read_table(parsons_file, delimiter=\"\\t\", comment='#', \n",
        "                   header=1, parse_dates=['20d'], index_col=['20d'], \n",
        "                   na_values= [9999, -0.0, -0.1])\n",
        "#Drop Columns: \n",
        "df_parsons= df_parsons.drop(columns={\"5s\", \"15s\", \"6s\", \"10s\", \"10s.1\"})\n",
        "#Rename Columns: \n",
        "df_parsons= df_parsons.rename(columns={\"14n\": \"Discharge (cfs)\"})\n",
        "df_parsons= df_parsons.rename(columns={\"14n.1\": \"Stage (ft)\"})\n",
        "#Fill NaN Data: \n",
        "df_parsons.interpolate(method = 'linear', inplace = True)\n",
        "    \n",
        "#Rockville: \n",
        "df_rockville= pd.read_table(rockville_file, delimiter=\"\\t\", comment='#', \n",
        "                   header=1, parse_dates=['20d'], index_col=['20d'], \n",
        "                   na_values= [9999, -0.0, -0.1])\n",
        "#Drop Columns: \n",
        "df_rockville= df_rockville.drop(columns={\"5s\", \"15s\", \"6s\", \"10s\"})\n",
        "#Rename Columns: \n",
        "df_rockville= df_rockville.rename(columns={\"14n\": \"Discharge (cfs)\"})\n",
        "df_rockville= df_rockville.rename(columns={\"14n.1\": \"Stage (ft)\"})\n",
        "#Fill NaN Data: \n",
        "df_rockville.interpolate(method = 'linear', inplace = True)\n",
        "    "
      ],
      "execution_count": null,
      "outputs": []
    },
    {
      "cell_type": "markdown",
      "metadata": {
        "id": "MVaFwH2qDcJ9"
      },
      "source": [
        "# **Creation of Z-Score Values for Discharge Curves**"
      ]
    },
    {
      "cell_type": "code",
      "metadata": {
        "id": "5cWZ5V6SDr6S"
      },
      "source": [
        "#Create DataFrame List for Looping: \n",
        "dflist= [df_albright, df_blackwater, df_bowden, df_hendricks, df_parsons, df_rockville]\n",
        "\n",
        "#Albright: \n",
        "df_albright['Z-Score Q']= (df_albright['Discharge (cfs)'] - \n",
        "                           df_albright['Discharge (cfs)'].mean()\n",
        "                           ) / df_albright['Discharge (cfs)'].std()\n",
        "\n",
        "#Blackwater: \n",
        "df_blackwater['Z-Score Q']= (df_blackwater['Discharge (cfs)'] - \n",
        "                           df_blackwater['Discharge (cfs)'].mean()\n",
        "                           ) / df_blackwater['Discharge (cfs)'].std()\n",
        "\n",
        "#Bowden: \n",
        "df_bowden['Z-Score Q']= (df_bowden['Discharge (cfs)'] - \n",
        "                           df_bowden['Discharge (cfs)'].mean()\n",
        "                           ) / df_bowden['Discharge (cfs)'].std()\n",
        "\n",
        "#Hendricks: \n",
        "df_hendricks['Z-Score Q']= (df_hendricks['Discharge (cfs)'] - \n",
        "                           df_hendricks['Discharge (cfs)'].mean()\n",
        "                           ) / df_hendricks['Discharge (cfs)'].std()\n",
        "    \n",
        "#Parsons: \n",
        "df_parsons['Z-Score Q']= (df_parsons['Discharge (cfs)'] - \n",
        "                           df_parsons['Discharge (cfs)'].mean()\n",
        "                           ) / df_parsons['Discharge (cfs)'].std()\n",
        "\n",
        "#Rockville: \n",
        "df_rockville['Z-Score Q']= (df_rockville['Discharge (cfs)'] - \n",
        "                           df_rockville['Discharge (cfs)'].mean()\n",
        "                           ) / df_rockville['Discharge (cfs)'].std()    "
      ],
      "execution_count": null,
      "outputs": []
    },
    {
      "cell_type": "markdown",
      "metadata": {
        "id": "OrxmcLUmDtmz"
      },
      "source": [
        "# **Calculating Discharge as Function of Watershed Area**"
      ]
    },
    {
      "cell_type": "code",
      "metadata": {
        "id": "-Thyoc-OD1it"
      },
      "source": [
        "#Define Watershed Area: \n",
        "watershed_area= 1422 #sq-mi\n",
        "\n",
        "#Calculate Discharge Equivalence in cm/hr: \n",
        "#Albright:\n",
        "df_albright['Discharge (cm/hr)']= (df_albright['Discharge (cfs)']/watershed_area * (1/5280**2) * 30.48 * 3600)\n",
        "    \n",
        "#Blackwater: \n",
        "df_blackwater['Discharge (cm/hr)']= (df_blackwater['Discharge (cfs)']/watershed_area * (1/5280**2) * 30.48 * 3600)\n",
        "\n",
        "#Bowden: \n",
        "df_bowden['Discharge (cm/hr)']= (df_bowden['Discharge (cfs)']/watershed_area * (1/5280**2) * 30.48 * 3600)    \n",
        "\n",
        "#Hendricks: \n",
        "df_hendricks['Discharge (cm/hr)']= (df_hendricks['Discharge (cfs)']/watershed_area * (1/5280**2) * 30.48 * 3600)\n",
        "    \n",
        "#Parsons:\n",
        "df_parsons['Discharge (cm/hr)']= (df_parsons['Discharge (cfs)']/watershed_area * (1/5280**2) * 30.48 * 3600)\n",
        "    \n",
        "#Rockville: \n",
        "df_rockville['Discharge (cm/hr)']= (df_rockville['Discharge (cfs)']/watershed_area * (1/5280**2) * 30.48 * 3600)\n"
      ],
      "execution_count": null,
      "outputs": []
    },
    {
      "cell_type": "markdown",
      "metadata": {
        "id": "FV7G4p_HFAq2"
      },
      "source": [
        "# **Plotting Time Series of Discharge Curves by Gauging Station Location** \n",
        "\n",
        "Plotting Discharge Curves in terms of untransformed dtata vales and transformed z-score values"
      ]
    },
    {
      "cell_type": "code",
      "metadata": {
        "id": "q08UDTG5FKnU"
      },
      "source": [
        "#Create Plotting Area:     \n",
        "fig, ax1 = plt.subplots()\n",
        "\n",
        "#Plot Discharge Data: \n",
        "#Albright:\n",
        "ax1.plot(df_albright['Discharge (cm/hr)'], ',', linestyle='-', color='navy', \n",
        "         label='Albright')\n",
        "#Blackwater: \n",
        "ax1.plot(df_blackwater['Discharge (cm/hr)'], ',', linestyle='-', color='grey', \n",
        "         label='Blackwater')\n",
        "#Bowden: \n",
        "ax1.plot(df_bowden['Discharge (cm/hr)'], ',', linestyle='-', color='dodgerblue', \n",
        "         label='Bowden')\n",
        "#Hendricks: \n",
        "ax1.plot(df_hendricks['Discharge (cm/hr)'], ',', linestyle='-', color='maroon', \n",
        "         label='Hendricks')\n",
        "#Parsons: \n",
        "ax1.plot(df_parsons['Discharge (cm/hr)'], ',', linestyle='-', color='orange', \n",
        "         label='Parsons')\n",
        "#Rockville: \n",
        "ax1.plot(df_rockville['Discharge (cm/hr)'], ',', linestyle='-', color='darkgreen', \n",
        "         label='Rockville')\n",
        "\n",
        "#Axis Formatting: \n",
        "ax1.set_ylim(bottom = 0)\n",
        "ax1.set_xlim(df_albright.index[0], df_albright.index[-1])\n",
        "fig.autofmt_xdate()\n",
        "\n",
        "#Axis Labels: \n",
        "ax1.set_ylabel('Discharge (cm/hr)', color='k', fontweight=\"bold\", fontsize= 12)\n",
        "ax1.set_xlabel('Date', color='k', fontweight=\"bold\", fontsize= 12)\n",
        "fig.suptitle('Discharge Curves for Cheat River Watershed', fontweight= \"bold\", fontsize=18)\n",
        "\n",
        "#Legend: \n",
        "fig.legend(bbox_to_anchor= (1.15, 0.75)) \n",
        "    "
      ],
      "execution_count": null,
      "outputs": []
    },
    {
      "cell_type": "code",
      "metadata": {
        "id": "B24BNQ3xAPer"
      },
      "source": [
        "#Create Plotting Area:     \n",
        "fig, ax1 = plt.subplots()\n",
        "\n",
        "#Plot Discharge Data: \n",
        "#Albright:\n",
        "ax1.plot(df_albright['Z-Score Q'], ',', linestyle='-', color='navy', label='Albright')\n",
        "#Blackwater: \n",
        "ax1.plot(df_blackwater['Z-Score Q'], ',', linestyle='-', color='grey', label='Blackwater')\n",
        "#Bowden: \n",
        "ax1.plot(df_bowden['Z-Score Q'], ',', linestyle='-', color='dodgerblue', label='Bowden')\n",
        "#Hendricks: \n",
        "ax1.plot(df_hendricks['Z-Score Q'], ',', linestyle='-', color='maroon', label='Hendricks')\n",
        "#Parsons: \n",
        "ax1.plot(df_parsons['Z-Score Q'], ',', linestyle='-', color='orange', label='Parsons')\n",
        "#Rockville: \n",
        "ax1.plot(df_rockville['Z-Score Q'], ',', linestyle='-', color='darkgreen', label='Rockville')\n",
        "\n",
        "#Axis Formatting: \n",
        "ax1.set_xlim(df_albright.index[0], df_albright.index[-1])\n",
        "fig.autofmt_xdate()\n",
        "\n",
        "#Axis Labels: \n",
        "ax1.set_ylabel('Discharge (cm/hr)', color='k', fontweight=\"bold\", fontsize= 12)\n",
        "ax1.set_xlabel('Date', color='k', fontweight=\"bold\", fontsize= 12)\n",
        "fig.suptitle('Z-Scored Discharge Curves for Cheat River Watershed', \n",
        "             fontweight= \"bold\", fontsize=18)\n",
        "\n",
        "#Legend: \n",
        "fig.legend(bbox_to_anchor= (1.15, 0.75)) \n"
      ],
      "execution_count": null,
      "outputs": []
    },
    {
      "cell_type": "markdown",
      "metadata": {
        "id": "nlzLHrklFWrj"
      },
      "source": [
        "# **Hydrograph Seperation of Discharge Curves**"
      ]
    },
    {
      "cell_type": "code",
      "metadata": {
        "id": "5Z6MSiz4GUgi"
      },
      "source": [
        "#Define Function:\n",
        "def hydrograph_sep(totalq, watershed):\n",
        "\n",
        "    #Find totalq: \n",
        "    totalq['Diff'] = totalq['Discharge (cm/hr)'].diff()\n",
        "    \n",
        "    #Find antecedent discharge and date using 0.0001 threshold for difference between events\n",
        "    global antQ_date\n",
        "    antQ = (totalq.loc[totalq['Diff'] > 0.000104, 'Discharge (cm/hr)'])\n",
        "    antQ_date = antQ.index[0]\n",
        "    antQ_val = round(antQ[0], 3)\n",
        "    \n",
        "    #Find Peak Discharge Date: \n",
        "    peakQ_date = totalq['Discharge (cm/hr)'].idxmax()\n",
        "    peakQ = totalq['Discharge (cm/hr)'].max()   \n",
        "    \n",
        "    #Calculate Event Duration:\n",
        "    N = 0.82*(watershed*1e-6)**0.2\n",
        "    #Calculate End of Event: \n",
        "    global end_of_event\n",
        "    end_of_event = peakQ_date + datetime.timedelta(days = N)\n",
        "    \n",
        "    #Calculate Ending Discharge Value: \n",
        "    end_Q = totalq.iloc[totalq.index.get_loc(end_of_event,method='nearest'), 1]\n",
        "    \n",
        "    #Create baseQ Dataframe:\n",
        "    baseQ = totalq[['Discharge (cm/hr)']].copy()\n",
        "    \n",
        "    #Calculate Base Discharge Curve Before Peak: \n",
        "    slope1, intercept1= np.polyfit(totalq.loc[totalq.index < antQ_date].index.astype('int64')\n",
        "                                /1E9, totalq.loc[totalq.index < antQ_date, \n",
        "                                                'Discharge (cm/hr)'], 1) \n",
        "    #Append Data Before Peak: \n",
        "    baseQ.loc[antQ_date:peakQ_date,\"Discharge (cm/hr)\"] = slope1 * (totalq.loc[antQ_date:peakQ_date].index.view('int64')/1e9) + intercept1\n",
        "    \n",
        "    #Calculate Base Discharge Curve After Peak: \n",
        "    slope2, intercept2= np.polyfit([peakQ_date.timestamp(), end_of_event.timestamp()], \n",
        "                               [baseQ.loc[peakQ_date, 'Discharge (cm/hr)'], end_Q], 1)\n",
        "    #Append Data After Peak: \n",
        "    baseQ.loc[peakQ_date:end_of_event,\"Discharge (cm/hr)\"] = slope2 * (totalq.loc[peakQ_date:end_of_event].index.view('int64')/1e9) + intercept2\n",
        "    \n",
        "    #Append BaseQ Values to DataFrame: \n",
        "    totalq['BaseQ (cm/hr)'] = baseQ['Discharge (cm/hr)']\n",
        "    \n",
        "    #Return Variables: \n",
        "    return (baseQ, antQ_date, antQ_val, peakQ_date, peakQ, end_of_event, end_Q)\n"
      ],
      "execution_count": null,
      "outputs": []
    },
    {
      "cell_type": "code",
      "metadata": {
        "id": "xBpQffmSAYUO"
      },
      "source": [
        "#Define Function with Keyword Arguement for Baseflow: \n",
        "def timeseriesplot(df1, startdate, enddate, baseflow= None):    \n",
        "\n",
        "    #Create Plot Area: \n",
        "    fig, ax1 = plt.subplots()\n",
        "\n",
        "    #Plot Discharge Data: \n",
        "    ax1.plot(df1['Discharge (cm/hr)'], ',', linestyle='-', color='navy', label='Discharge (cm/hr)')\n",
        "\n",
        "    #Axis Formatting: \n",
        "    ax1.set_ylim(bottom = 0)\n",
        "    ax1.set_xlim(startdate, enddate)\n",
        "    fig.autofmt_xdate()\n",
        "\n",
        "    #Axis Labels: \n",
        "    ax1.set_ylabel('Discharge (cm/hr)', color='k', fontweight=\"bold\", fontsize= 12)\n",
        "    ax1.set_xlabel('Date', color='k', fontweight=\"bold\", fontsize= 12)\n",
        "    \n",
        "    #Optional Arguement Boolean Indicator: \n",
        "    if baseflow is not None: \n",
        "        ax1.plot(baseflow['Discharge (cm/hr)'], ',', linestyle='-', color='darkseagreen', \n",
        "                 label=' Baseflow (cm/hr)')\n",
        "    \n",
        "    #Legend: \n",
        "    fig.legend(bbox_to_anchor= (0.65, 0.0))   \n"
      ],
      "execution_count": null,
      "outputs": []
    },
    {
      "cell_type": "code",
      "metadata": {
        "id": "Hxbfv_0OAcUu"
      },
      "source": [
        "#Albright: \n",
        "#Run Hydrograph Seperation Function: \n",
        "hydrograph_sep(df_albright, watershed_area)\n",
        "#Integrating Storm Total: \n",
        "storm_frame= df_albright[antQ_date : end_of_event]\n",
        "albright_total= storm_frame['Discharge (cm/hr)'].sum()    \n",
        "#Run Time Series Plotting Function: \n",
        "timeseriesplot(df_albright, df_albright.index[0], df_albright.index[-1], baseQ)\n",
        "\n",
        "#Blackwater: \n",
        "#Run Hydrograph Seperation Function: \n",
        "hydrograph_sep(df_blackwater, watershed_area)\n",
        "#Integrating Storm Total: \n",
        "storm_frame= df_blackwater[antQ_date : end_of_event]\n",
        "blackwater_total= storm_frame['Discharge (cm/hr)'].sum() \n",
        "#Run Time Series Plotting Function: \n",
        "timeseriesplot(df_blackwater, df_blackwater.index[0], df_blackwater.index[-1], baseQ)\n",
        "    \n",
        "#Bowden:\n",
        "#Run Hydrograph Seperation Function: \n",
        "hydrograph_sep(df_bowden, watershed_area)\n",
        "#Integrating Storm Total: \n",
        "storm_frame= df_bowden[antQ_date : end_of_event]\n",
        "bowden_total= storm_frame['Discharge (cm/hr)'].sum() \n",
        "#Run Time Series Plotting Function: \n",
        "timeseriesplot(df_bowden, df_bowden.index[0], df_bowden.index[-1], baseQ)\n",
        "    \n",
        "#Hendricks: \n",
        "#Run Hydrograph Seperation Function: \n",
        "hydrograph_sep(df_hendricks, watershed_area)\n",
        "#Integrating Storm Total: \n",
        "storm_frame= df_hendricks[antQ_date : end_of_event]\n",
        "hendricks_total= storm_frame['Discharge (cm/hr)'].sum() \n",
        "#Run Time Series Plotting Function: \n",
        "timeseriesplot(df_hendricks, df_hendricks.index[0], df_hendricks.index[-1], baseQ)\n",
        "    \n",
        "#Parsons: \n",
        "#Run Hydrograph Seperation Function: \n",
        "hydrograph_sep(df_parsons, watershed_area)\n",
        "#Integrating Storm Total: \n",
        "storm_frame= df_parsons[antQ_date : end_of_event]\n",
        "parsons_total= storm_frame['Discharge (cm/hr)'].sum() \n",
        "#Run Time Series Plotting Function: \n",
        "timeseriesplot(df_parsons, df_parsons.index[0], df_parsons.index[-1], baseQ)\n",
        "    \n",
        "#Rockville: \n",
        "#Run Hydrograph Seperation Function: \n",
        "hydrograph_sep(df_rockville, watershed_area)\n",
        "#Integrating Storm Total: \n",
        "storm_frame= df_rockville[antQ_date : end_of_event]\n",
        "rockville_total= storm_frame['Discharge (cm/hr)'].sum() \n",
        "#Run Time Series Plotting Function: \n",
        "timeseriesplot(df_rockville, df_rockville.index[0], df_rockville.index[-1], baseQ)\n",
        "    "
      ],
      "execution_count": null,
      "outputs": []
    },
    {
      "cell_type": "markdown",
      "metadata": {
        "id": "6GI5ax7_GixA"
      },
      "source": [
        "# **Calculating Value of Effective Discharge for Each Gauging Location within Cheat River Watershed:**"
      ]
    },
    {
      "cell_type": "code",
      "metadata": {
        "id": "m9185LFPAhYx"
      },
      "source": [
        "#Define Function: \n",
        "def effect_flow(df): \n",
        "    \n",
        "    #Calculate Effective Flow: \n",
        "    #df['Effective Flow (cm/hr)'] = df['Discharge (cm/hr)'] - df['BaseQ (cm/hr)']\n",
        "    df['Eff Flow (cm/hr)']= np.where(df['Discharge (cm/hr)'] - df['BaseQ (cm/hr)'] > 0, \n",
        "                                     df['Discharge (cm/hr)'] - df['BaseQ (cm/hr)'], 0)\n",
        "        \n",
        "#Albright: \n",
        "effect_flow(df_albright)\n",
        "\n",
        "#Blackwater: \n",
        "effect_flow(df_blackwater)\n",
        "\n",
        "#Bowden: \n",
        "effect_flow(df_bowden)\n",
        "    \n",
        "#Hendricks: \n",
        "effect_flow(df_hendricks)\n",
        "\n",
        "#Parsons: \n",
        "effect_flow(df_parsons)\n",
        "    \n",
        "#Rockville: \n",
        "effect_flow(df_rockville)\n"
      ],
      "execution_count": null,
      "outputs": []
    },
    {
      "cell_type": "code",
      "metadata": {
        "id": "7DQoJMPKAlib"
      },
      "source": [
        "#Create Plotting Area:     \n",
        "fig, ax1 = plt.subplots()\n",
        "\n",
        "#Plot Discharge Data: \n",
        "#Albright:\n",
        "ax1.plot(df_albright['Eff Flow (cm/hr)'], ',', linestyle='-', color='navy', \n",
        "         label='Albright')\n",
        "#Blackwater: \n",
        "ax1.plot(df_blackwater['Eff Flow (cm/hr)'], ',', linestyle='-', color='grey', \n",
        "         label='Blackwater')\n",
        "#Bowden: \n",
        "ax1.plot(df_bowden['Eff Flow (cm/hr)'], ',', linestyle='-', color='dodgerblue', \n",
        "         label='Bowden')\n",
        "#Hendricks: \n",
        "ax1.plot(df_hendricks['Eff Flow (cm/hr)'], ',', linestyle='-', color='maroon', \n",
        "         label='Hendricks')\n",
        "#Parsons: \n",
        "ax1.plot(df_parsons['Eff Flow (cm/hr)'], ',', linestyle='-', color='orange', \n",
        "         label='Parsons')\n",
        "#Rockville: \n",
        "ax1.plot(df_rockville['Eff Flow (cm/hr)'], ',', linestyle='-', color='darkgreen', \n",
        "         label='Rockville')\n",
        "\n",
        "#Axis Formatting: \n",
        "ax1.set_ylim(bottom = 0)\n",
        "ax1.set_xlim(df_albright.index[0], df_albright.index[-1])\n",
        "fig.autofmt_xdate()\n",
        "\n",
        "#Axis Labels: \n",
        "ax1.set_ylabel('Discharge (cm/hr)', color='k', fontweight=\"bold\", fontsize= 12)\n",
        "ax1.set_xlabel('Date', color='k', fontweight=\"bold\", fontsize= 12)\n",
        "fig.suptitle('Effective Flow Discharge Curves for Cheat River Watershed', \n",
        "             fontweight= \"bold\", fontsize=18)\n",
        "\n",
        "#Legend: \n",
        "fig.legend(bbox_to_anchor= (1.15, 0.75))  \n"
      ],
      "execution_count": null,
      "outputs": []
    },
    {
      "cell_type": "markdown",
      "metadata": {
        "id": "dZ8975VlGutl"
      },
      "source": [
        "#**Calculating Z-Score of Effective Flow for Each Gauging Station Location within the Cheat River Watershed:**"
      ]
    },
    {
      "cell_type": "code",
      "metadata": {
        "id": "xqu_SrHgApPw"
      },
      "source": [
        "#Albright: \n",
        "df_albright['Z-Score EffQ']= (df_albright['Eff Flow (cm/hr)'] - \n",
        "                           df_albright['Eff Flow (cm/hr)'].mean()\n",
        "                           ) / df_albright['Eff Flow (cm/hr)'].std()\n",
        "\n",
        "#Blackwater: \n",
        "df_blackwater['Z-Score EffQ']= (df_blackwater['Eff Flow (cm/hr)'] - \n",
        "                           df_blackwater['Eff Flow (cm/hr)'].mean()\n",
        "                           ) / df_blackwater['Eff Flow (cm/hr)'].std()\n",
        "\n",
        "#Bowden: \n",
        "df_bowden['Z-Score EffQ']= (df_bowden['Eff Flow (cm/hr)'] - \n",
        "                           df_bowden['Eff Flow (cm/hr)'].mean()\n",
        "                           ) / df_bowden['Eff Flow (cm/hr)'].std()\n",
        "\n",
        "#Hendricks: \n",
        "df_hendricks['Z-Score EffQ']= (df_hendricks['Eff Flow (cm/hr)'] - \n",
        "                           df_hendricks['Eff Flow (cm/hr)'].mean()\n",
        "                           ) / df_hendricks['Eff Flow (cm/hr)'].std()\n",
        "    \n",
        "#Parsons: \n",
        "df_parsons['Z-Score EffQ']= (df_parsons['Eff Flow (cm/hr)'] - \n",
        "                           df_parsons['Eff Flow (cm/hr)'].mean()\n",
        "                           ) / df_parsons['Eff Flow (cm/hr)'].std()\n",
        "\n",
        "#Rockville: \n",
        "df_rockville['Z-Score EffQ']= (df_rockville['Eff Flow (cm/hr)'] - \n",
        "                           df_rockville['Eff Flow (cm/hr)'].mean()\n",
        "                           ) / df_rockville['Eff Flow (cm/hr)'].std()    \n"
      ],
      "execution_count": null,
      "outputs": []
    },
    {
      "cell_type": "code",
      "metadata": {
        "id": "CI_G0_4kAt5Z"
      },
      "source": [
        "\n",
        "#Create Plotting Area:     \n",
        "fig, ax1 = plt.subplots()\n",
        "\n",
        "#Plot Discharge Data: \n",
        "#Albright:\n",
        "ax1.plot(df_albright['Z-Score EffQ'], ',', linestyle='-', color='navy', label='Albright')\n",
        "#Blackwater: \n",
        "ax1.plot(df_blackwater['Z-Score EffQ'], ',', linestyle='-', color='grey', \n",
        "         label='Blackwater')\n",
        "#Bowden: \n",
        "ax1.plot(df_bowden['Z-Score EffQ'], ',', linestyle='-', color='dodgerblue', label='Bowden')\n",
        "#Hendricks: \n",
        "ax1.plot(df_hendricks['Z-Score EffQ'], ',', linestyle='-', color='maroon', \n",
        "         label='Hendricks')\n",
        "#Parsons: \n",
        "ax1.plot(df_parsons['Z-Score EffQ'], ',', linestyle='-', color='orange', label='Parsons')\n",
        "#Rockville: \n",
        "ax1.plot(df_rockville['Z-Score EffQ'], ',', linestyle='-', color='darkgreen', \n",
        "         label='Rockville')\n",
        "\n",
        "#Axis Formatting: \n",
        "ax1.set_xlim(df_albright.index[0], df_albright.index[-1])\n",
        "fig.autofmt_xdate()\n",
        "\n",
        "#Axis Labels: \n",
        "ax1.set_ylabel('Discharge (cm/hr)', color='k', fontweight=\"bold\", fontsize= 12)\n",
        "ax1.set_xlabel('Date', color='k', fontweight=\"bold\", fontsize= 12)\n",
        "fig.suptitle('Z-Scored Effective Discharge Curves', \n",
        "             fontweight= \"bold\", fontsize=18)\n",
        "\n",
        "#Legend: \n",
        "fig.legend(bbox_to_anchor= (1.15, 0.75))     \n"
      ],
      "execution_count": null,
      "outputs": []
    },
    {
      "cell_type": "markdown",
      "metadata": {
        "id": "KT6KntEvG9TL"
      },
      "source": [
        "#**Plotting Total Volumetric Discharge for Storm Event by Gauging Location:**\n",
        "\n",
        "The final graphical output for this porject is the creation of a bar graph plot to display how much water ran through each gauging station for the storm event. This plot will help us to graphically represent where a certain volume of flow was located during the storm\n",
        "\n",
        ".\n",
        "\n",
        "**Effectively, this plot is a product of two variables:**  \n",
        "*   Magnitude of Discharge \n",
        "*   Duration of the Storm Event\n",
        "\n",
        ".\n",
        "\n",
        "Our purposes will allow us to see that even though these stream gauging locations might vary in scale, if the normalized amount of flow through a specific pattern of stations is visible in this plot, we can begin to decypher how a \"pulse\" of water moves thorughout a watershed during a single large-scale storm event\n",
        "\n"
      ]
    },
    {
      "cell_type": "code",
      "metadata": {
        "id": "WR9Dme0mHHt3"
      },
      "source": [
        "\n",
        "#Create Plotting Area: \n",
        "fig = plt.figure()\n",
        "ax = fig.add_axes([0,0,1,1])\n",
        "\n",
        "#Add Data Bars: \n",
        "locations = ['Albright', 'Davis', 'Bowden', 'Hendricks', 'Parsons', 'Rockville']\n",
        "discharge_totals = [albright_total, blackwater_total, bowden_total, hendricks_total, \n",
        "            parsons_total, rockville_total]\n",
        "ax.bar(locations, discharge_totals)\n",
        "\n",
        "#Axis Labels: \n",
        "ax.set_ylabel('Total Discharge (cm)', color='k', fontweight=\"bold\", fontsize= 12)\n",
        "ax.set_xlabel('Location of Measurement', color='k', fontweight=\"bold\", fontsize= 12)\n",
        "ax.set_title('Total Storm Event Discharge Outputs', fontweight= \"bold\", fontsize=18)\n",
        "    \n",
        "#Display Bar Plot: \n",
        "plt.show()\n",
        "    "
      ],
      "execution_count": null,
      "outputs": []
    },
    {
      "cell_type": "markdown",
      "metadata": {
        "id": "0DtpSuW0A6oU"
      },
      "source": [
        "# **Pearson Coefficient of Time Series Values**\n",
        "\n",
        "The last step of this study is to determine how similar or different the various discharge curves are to each other. A measure of similairty of discharge profiles will provide the information we are seeking regarding determining how a storm event moves thorughout a watershed.\n",
        "\n",
        "\n",
        "A Pearson correlation will generate a coefficient value between -1 and 1 that indicates whether the time series being evaluated are:\n",
        "\n",
        "* **Positively Correlated (1)**\n",
        "* **Not Correlated (0)**\n",
        "* **Negatively Correlated (-1)**\n",
        "\n",
        "\n",
        "Given the Pearson coefficient is a global rating of synchrony between multiple datasets, an assumption is made to neglect small, spatial phenomena that influence discharge, such as fluctuating temperatures above freezing. It is expected the effects of these phenomena, if present, are temporary and minute enough that they will not affect the global synchrony and correlation of any of the time series."
      ]
    },
    {
      "cell_type": "code",
      "metadata": {
        "id": "SngjTENrB3GH"
      },
      "source": [
        "#Albright-Davis Correlation: \n",
        "AlbrightDavisQ=df_albright['Discharge (cm/hr)'].corr(df_blackwater['Discharge (cm/hr)'])\n",
        "    \n",
        "#Albright-Bowden Correlation: \n",
        "AlbrightBowdenQ=df_albright['Discharge (cm/hr)'].corr(df_bowden['Discharge (cm/hr)'])\n",
        "    \n",
        "#Albright-Hendricks Correlation: \n",
        "AlbrightHendricksQ=df_albright['Discharge (cm/hr)'].corr(df_hendricks['Discharge (cm/hr)'])\n",
        "    \n",
        "#Albright-Parsons Correlation:\n",
        "AlbrightParsonsQ=df_albright['Discharge (cm/hr)'].corr(df_parsons['Discharge (cm/hr)'])\n",
        "    \n",
        "#Albright-Rockville Correlation: \n",
        "AlbrightRockvilleQ=df_albright['Discharge (cm/hr)'].corr(df_rockville['Discharge (cm/hr)'])\n",
        "\n",
        "#Davis-Bowden:\n",
        "DavisBowdenQ=df_blackwater['Discharge (cm/hr)'].corr(df_bowden['Discharge (cm/hr)'])\n",
        "    \n",
        "#Davis-Hendricks:\n",
        "DavisHendricksQ=df_blackwater['Discharge (cm/hr)'].corr(df_hendricks['Discharge (cm/hr)'])\n",
        "    \n",
        "#Davis-Parsons:\n",
        "DavisParsonsQ=df_blackwater['Discharge (cm/hr)'].corr(df_parsons['Discharge (cm/hr)'])\n",
        "\n",
        "#Davis-Rockville: \n",
        "DavisRockvilleQ=df_blackwater['Discharge (cm/hr)'].corr(df_rockville['Discharge (cm/hr)'])\n",
        "\n",
        "#Bowden-Hendricks: \n",
        "BowdenHendricksQ=df_bowden['Discharge (cm/hr)'].corr(df_hendricks['Discharge (cm/hr)'])\n",
        "    \n",
        "#Bowden-Parsons: \n",
        "BowdenParsonsQ=df_bowden['Discharge (cm/hr)'].corr(df_parsons['Discharge (cm/hr)'])\n",
        "    \n",
        "#Bowden-Rockville: \n",
        "BowdenRockvilleQ=df_bowden['Discharge (cm/hr)'].corr(df_rockville['Discharge (cm/hr)'])\n",
        "\n",
        "#Hendricks-Parsons: \n",
        "HendricksParsonsQ=df_hendricks['Discharge (cm/hr)'].corr(df_parsons['Discharge (cm/hr)'])\n",
        "    \n",
        "#Hendricks-Rockville: \n",
        "HendricksRockvilleQ=df_hendricks['Discharge (cm/hr)'].corr(df_rockville['Discharge (cm/hr)'])\n",
        "\n",
        "#Parsons-Rockville: \n",
        "ParsonsRockvilleQ=df_parsons['Discharge (cm/hr)'].corr(df_rockville['Discharge (cm/hr)'])"
      ],
      "execution_count": null,
      "outputs": []
    }
  ]
}